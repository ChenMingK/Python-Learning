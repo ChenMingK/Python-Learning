{
 "cells": [
  {
   "cell_type": "code",
   "execution_count": 2,
   "metadata": {},
   "outputs": [],
   "source": [
    "import torch\n",
    "import torch.nn as nn\n",
    "import torch.nn.functional as F"
   ]
  },
  {
   "cell_type": "code",
   "execution_count": 3,
   "metadata": {},
   "outputs": [],
   "source": [
    "class Net(nn.Module):\n",
    "    def __init__(self): # 定义神经网络结构，输入数据 1x32x32\n",
    "        super(Net, self).__init__()\n",
    "        # 第一层（卷积层）\n",
    "        self.conv1 = nn.Conv2d(1, 6, 3) # 输入频道 1、输出频道 6、卷积大小 3x3\n",
    "        # 第二层（卷积层）\n",
    "        self.conv2 = nn.Conv2d(6, 16, 3) # 输入频道 6，输出频道 16，卷积 3x3\n",
    "        # 第三层（全连接层）\n",
    "        self.fc1 = nn.Linear(16 * 28 * 28, 512) # 每次卷积后输入数据大小-2，输入维度 16x28z28，输出维度 512\n",
    "        # 第四层（全连接层）\n",
    "        self.fc2 = nn.Linear(512, 64) # 输入维度 512，输出维度 64\n",
    "        # 第五层（全连接层）\n",
    "        self.fc3 = nn.Linear(64, 2) # 输入维度 64，输出维度 2\n",
    "        \n",
    "    def forward(self, x): # 定义数据流向\n",
    "        x = self.conv1(x)\n",
    "        x = F.relu(x) # 固定 x 值的范围\n",
    "        \n",
    "        x = self.conv2(x)\n",
    "        x = F.relu(x)\n",
    "        \n",
    "        x = x.view(-1, 16 * 28 * 28)\n",
    "        x = self.fc1(x)\n",
    "        x = F.relu(x)\n",
    "        \n",
    "        x = self.fc2(x)\n",
    "        x = F.relu(x)\n",
    "        \n",
    "        x = self.fc3(x)\n",
    "        \n",
    "        return x"
   ]
  },
  {
   "cell_type": "code",
   "execution_count": 4,
   "metadata": {},
   "outputs": [
    {
     "name": "stdout",
     "output_type": "stream",
     "text": [
      "Net(\n",
      "  (conv1): Conv2d(1, 6, kernel_size=(3, 3), stride=(1, 1))\n",
      "  (conv2): Conv2d(6, 16, kernel_size=(3, 3), stride=(1, 1))\n",
      "  (fc1): Linear(in_features=12544, out_features=512, bias=True)\n",
      "  (fc2): Linear(in_features=512, out_features=64, bias=True)\n",
      "  (fc3): Linear(in_features=64, out_features=2, bias=True)\n",
      ")\n"
     ]
    }
   ],
   "source": [
    "net = Net()\n",
    "print(net)"
   ]
  },
  {
   "cell_type": "code",
   "execution_count": 5,
   "metadata": {},
   "outputs": [
    {
     "name": "stdout",
     "output_type": "stream",
     "text": [
      "tensor([[[[-0.1324, -0.7696, -1.6360,  ..., -0.5030, -0.8836,  0.0258],\n",
      "          [-0.1568,  0.0994,  0.0134,  ...,  0.5536, -2.0184, -0.7458],\n",
      "          [ 0.4117,  1.7976, -0.3961,  ...,  0.6498,  0.4854, -0.1478],\n",
      "          ...,\n",
      "          [-0.4134,  1.5046, -1.3173,  ..., -1.3056, -1.0549,  0.1810],\n",
      "          [ 1.1652,  1.4554, -1.0699,  ...,  0.7821,  2.3261, -1.6988],\n",
      "          [ 0.0214, -0.9995, -1.0826,  ..., -0.2065,  0.0740,  0.6086]]]])\n",
      "torch.Size([1, 1, 32, 32])\n"
     ]
    }
   ],
   "source": [
    "# 生成随机输入\n",
    "input_data = torch.randn(1, 1, 32, 32)\n",
    "print(input_data)\n",
    "print(input_data.size())"
   ]
  },
  {
   "cell_type": "code",
   "execution_count": 6,
   "metadata": {},
   "outputs": [
    {
     "name": "stdout",
     "output_type": "stream",
     "text": [
      "tensor([[0.0595, 0.0476]], grad_fn=<AddmmBackward>)\n",
      "torch.Size([1, 2])\n"
     ]
    }
   ],
   "source": [
    "# 运行神经网络\n",
    "out = net(input_data)\n",
    "print(out)\n",
    "print(out.size())"
   ]
  },
  {
   "cell_type": "code",
   "execution_count": 7,
   "metadata": {},
   "outputs": [
    {
     "name": "stdout",
     "output_type": "stream",
     "text": [
      "tensor([-0.4582, -1.7589])\n",
      "tensor([[-0.4582, -1.7589]])\n"
     ]
    }
   ],
   "source": [
    "# 随机生成真实值\n",
    "target = torch.randn(2)\n",
    "print(target)\n",
    "target = target.view(1, -1) # -1 表示维度自动判断\n",
    "print(target)"
   ]
  },
  {
   "cell_type": "code",
   "execution_count": 8,
   "metadata": {},
   "outputs": [
    {
     "name": "stdout",
     "output_type": "stream",
     "text": [
      "tensor(1.1621, grad_fn=<L1LossBackward>)\n"
     ]
    }
   ],
   "source": [
    "criterion = nn.L1Loss() # 定义损失函数，这里是绝对误差\n",
    "loss = criterion(out, target) # 计算损失\n",
    "print(loss)\n"
   ]
  },
  {
   "cell_type": "code",
   "execution_count": 9,
   "metadata": {},
   "outputs": [],
   "source": [
    "# 反向传递\n",
    "net.zero_grad() # 清零梯度\n",
    "loss.backward() # 自动计算梯度、反向传递\n"
   ]
  },
  {
   "cell_type": "code",
   "execution_count": 10,
   "metadata": {},
   "outputs": [],
   "source": [
    "# 更新权重\n",
    "import torch.optim as optim\n",
    "\n",
    "optimizer = optim.SGD(net.parameters(), lr = 0.01)\n",
    "optimizer.step()"
   ]
  },
  {
   "cell_type": "code",
   "execution_count": 14,
   "metadata": {},
   "outputs": [
    {
     "name": "stdout",
     "output_type": "stream",
     "text": [
      "tensor([[0.0172, 0.0147]], grad_fn=<AddmmBackward>)\n",
      "torch.Size([1, 2])\n"
     ]
    }
   ],
   "source": [
    "# 再次运行神经网络以及计算损失\n",
    "out = net(input_data)\n",
    "print(out)\n",
    "print(out.size())\n"
   ]
  },
  {
   "cell_type": "code",
   "execution_count": 13,
   "metadata": {},
   "outputs": [
    {
     "name": "stdout",
     "output_type": "stream",
     "text": [
      "tensor(1.1245, grad_fn=<L1LossBackward>)\n"
     ]
    }
   ],
   "source": [
    "loss = criterion(out, target) # 计算损失\n",
    "print(loss)"
   ]
  },
  {
   "cell_type": "code",
   "execution_count": null,
   "metadata": {},
   "outputs": [],
   "source": []
  }
 ],
 "metadata": {
  "kernelspec": {
   "display_name": "Python 3",
   "language": "python",
   "name": "python3"
  },
  "language_info": {
   "codemirror_mode": {
    "name": "ipython",
    "version": 3
   },
   "file_extension": ".py",
   "mimetype": "text/x-python",
   "name": "python",
   "nbconvert_exporter": "python",
   "pygments_lexer": "ipython3",
   "version": "3.6.5"
  }
 },
 "nbformat": 4,
 "nbformat_minor": 2
}
